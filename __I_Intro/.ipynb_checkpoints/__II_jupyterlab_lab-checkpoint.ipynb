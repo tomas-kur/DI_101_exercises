{
 "cells": [
  {
   "cell_type": "markdown",
   "id": "253ea4f7",
   "metadata": {},
   "source": [
    "# Jupyter Lab aplinka"
   ]
  },
  {
   "cell_type": "markdown",
   "id": "72dc87c6",
   "metadata": {},
   "source": []
  },
  {
   "cell_type": "markdown",
   "id": "9a8d2549",
   "metadata": {},
   "source": [
    "## Temos"
   ]
  },
  {
   "cell_type": "markdown",
   "id": "ee3792e7",
   "metadata": {},
   "source": []
  },
  {
   "cell_type": "code",
   "execution_count": null,
   "id": "030af0b3",
   "metadata": {},
   "outputs": [],
   "source": []
  },
  {
   "cell_type": "code",
   "execution_count": null,
   "id": "6b18fb12",
   "metadata": {},
   "outputs": [],
   "source": []
  }
 ],
 "metadata": {
  "kernelspec": {
   "display_name": "Python 3",
   "language": "python",
   "name": "python3"
  },
  "language_info": {
   "codemirror_mode": {
    "name": "ipython",
    "version": 3
   },
   "file_extension": ".py",
   "mimetype": "text/x-python",
   "name": "python",
   "nbconvert_exporter": "python",
   "pygments_lexer": "ipython3",
   "version": "3.7.4"
  }
 },
 "nbformat": 4,
 "nbformat_minor": 5
}
